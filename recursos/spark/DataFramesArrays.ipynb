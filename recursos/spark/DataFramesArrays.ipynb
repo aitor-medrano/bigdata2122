{
 "cells": [
  {
   "cell_type": "code",
   "execution_count": 2,
   "id": "36c6a27b",
   "metadata": {},
   "outputs": [
    {
     "name": "stdout",
     "output_type": "stream",
     "text": [
      "root\n",
      " |-- attributes: struct (nullable = true)\n",
      " |    |-- Accepts Credit Cards: string (nullable = true)\n",
      " |    |-- Accepts Insurance: boolean (nullable = true)\n",
      " |    |-- Ages Allowed: string (nullable = true)\n",
      " |    |-- Alcohol: string (nullable = true)\n",
      " |    |-- Ambience: struct (nullable = true)\n",
      " |    |    |-- casual: boolean (nullable = true)\n",
      " |    |    |-- classy: boolean (nullable = true)\n",
      " |    |    |-- divey: boolean (nullable = true)\n",
      " |    |    |-- hipster: boolean (nullable = true)\n",
      " |    |    |-- intimate: boolean (nullable = true)\n",
      " |    |    |-- none: boolean (nullable = true)\n",
      " |    |    |-- romantic: boolean (nullable = true)\n",
      " |    |    |-- touristy: boolean (nullable = true)\n",
      " |    |    |-- trendy: boolean (nullable = true)\n",
      " |    |    |-- upscale: boolean (nullable = true)\n",
      " |    |-- Attire: string (nullable = true)\n",
      " |    |-- BYOB: boolean (nullable = true)\n",
      " |    |-- BYOB/Corkage: string (nullable = true)\n",
      " |    |-- By Appointment Only: boolean (nullable = true)\n",
      " |    |-- Caters: boolean (nullable = true)\n",
      " |    |-- Coat Check: boolean (nullable = true)\n",
      " |    |-- Corkage: boolean (nullable = true)\n",
      " |    |-- Delivery: boolean (nullable = true)\n",
      " |    |-- Dietary Restrictions: struct (nullable = true)\n",
      " |    |    |-- dairy-free: boolean (nullable = true)\n",
      " |    |    |-- gluten-free: boolean (nullable = true)\n",
      " |    |    |-- halal: boolean (nullable = true)\n",
      " |    |    |-- kosher: boolean (nullable = true)\n",
      " |    |    |-- soy-free: boolean (nullable = true)\n",
      " |    |    |-- vegan: boolean (nullable = true)\n",
      " |    |    |-- vegetarian: boolean (nullable = true)\n",
      " |    |-- Dogs Allowed: boolean (nullable = true)\n",
      " |    |-- Drive-Thru: boolean (nullable = true)\n",
      " |    |-- Good For: struct (nullable = true)\n",
      " |    |    |-- breakfast: boolean (nullable = true)\n",
      " |    |    |-- brunch: boolean (nullable = true)\n",
      " |    |    |-- dessert: boolean (nullable = true)\n",
      " |    |    |-- dinner: boolean (nullable = true)\n",
      " |    |    |-- latenight: boolean (nullable = true)\n",
      " |    |    |-- lunch: boolean (nullable = true)\n",
      " |    |    |-- none: boolean (nullable = true)\n",
      " |    |-- Good For Dancing: boolean (nullable = true)\n",
      " |    |-- Good For Groups: boolean (nullable = true)\n",
      " |    |-- Good For Kids: boolean (nullable = true)\n",
      " |    |-- Good for Kids: boolean (nullable = true)\n",
      " |    |-- Hair Types Specialized In: struct (nullable = true)\n",
      " |    |    |-- africanamerican: boolean (nullable = true)\n",
      " |    |    |-- asian: boolean (nullable = true)\n",
      " |    |    |-- coloring: boolean (nullable = true)\n",
      " |    |    |-- curly: boolean (nullable = true)\n",
      " |    |    |-- extensions: boolean (nullable = true)\n",
      " |    |    |-- kids: boolean (nullable = true)\n",
      " |    |    |-- perms: boolean (nullable = true)\n",
      " |    |    |-- straightperms: boolean (nullable = true)\n",
      " |    |-- Happy Hour: boolean (nullable = true)\n",
      " |    |-- Has TV: boolean (nullable = true)\n",
      " |    |-- Music: struct (nullable = true)\n",
      " |    |    |-- background_music: boolean (nullable = true)\n",
      " |    |    |-- dj: boolean (nullable = true)\n",
      " |    |    |-- jukebox: boolean (nullable = true)\n",
      " |    |    |-- karaoke: boolean (nullable = true)\n",
      " |    |    |-- live: boolean (nullable = true)\n",
      " |    |    |-- playlist: boolean (nullable = true)\n",
      " |    |    |-- video: boolean (nullable = true)\n",
      " |    |-- Noise Level: string (nullable = true)\n",
      " |    |-- Open 24 Hours: boolean (nullable = true)\n",
      " |    |-- Order at Counter: boolean (nullable = true)\n",
      " |    |-- Outdoor Seating: boolean (nullable = true)\n",
      " |    |-- Parking: struct (nullable = true)\n",
      " |    |    |-- garage: boolean (nullable = true)\n",
      " |    |    |-- lot: boolean (nullable = true)\n",
      " |    |    |-- none: boolean (nullable = true)\n",
      " |    |    |-- street: boolean (nullable = true)\n",
      " |    |    |-- valet: boolean (nullable = true)\n",
      " |    |    |-- validated: boolean (nullable = true)\n",
      " |    |-- Payment Types: struct (nullable = true)\n",
      " |    |    |-- amex: boolean (nullable = true)\n",
      " |    |    |-- cash_only: boolean (nullable = true)\n",
      " |    |    |-- discover: boolean (nullable = true)\n",
      " |    |    |-- mastercard: boolean (nullable = true)\n",
      " |    |    |-- visa: boolean (nullable = true)\n",
      " |    |-- Price Range: long (nullable = true)\n",
      " |    |-- Smoking: string (nullable = true)\n",
      " |    |-- Take-out: boolean (nullable = true)\n",
      " |    |-- Takes Reservations: boolean (nullable = true)\n",
      " |    |-- Waiter Service: boolean (nullable = true)\n",
      " |    |-- Wheelchair Accessible: boolean (nullable = true)\n",
      " |    |-- Wi-Fi: string (nullable = true)\n",
      " |-- business_id: string (nullable = true)\n",
      " |-- categories: array (nullable = true)\n",
      " |    |-- element: string (containsNull = true)\n",
      " |-- city: string (nullable = true)\n",
      " |-- full_address: string (nullable = true)\n",
      " |-- hours: struct (nullable = true)\n",
      " |    |-- Friday: struct (nullable = true)\n",
      " |    |    |-- close: string (nullable = true)\n",
      " |    |    |-- open: string (nullable = true)\n",
      " |    |-- Monday: struct (nullable = true)\n",
      " |    |    |-- close: string (nullable = true)\n",
      " |    |    |-- open: string (nullable = true)\n",
      " |    |-- Saturday: struct (nullable = true)\n",
      " |    |    |-- close: string (nullable = true)\n",
      " |    |    |-- open: string (nullable = true)\n",
      " |    |-- Sunday: struct (nullable = true)\n",
      " |    |    |-- close: string (nullable = true)\n",
      " |    |    |-- open: string (nullable = true)\n",
      " |    |-- Thursday: struct (nullable = true)\n",
      " |    |    |-- close: string (nullable = true)\n",
      " |    |    |-- open: string (nullable = true)\n",
      " |    |-- Tuesday: struct (nullable = true)\n",
      " |    |    |-- close: string (nullable = true)\n",
      " |    |    |-- open: string (nullable = true)\n",
      " |    |-- Wednesday: struct (nullable = true)\n",
      " |    |    |-- close: string (nullable = true)\n",
      " |    |    |-- open: string (nullable = true)\n",
      " |-- latitude: double (nullable = true)\n",
      " |-- longitude: double (nullable = true)\n",
      " |-- name: string (nullable = true)\n",
      " |-- neighborhoods: array (nullable = true)\n",
      " |    |-- element: string (containsNull = true)\n",
      " |-- open: boolean (nullable = true)\n",
      " |-- review_count: long (nullable = true)\n",
      " |-- stars: double (nullable = true)\n",
      " |-- state: string (nullable = true)\n",
      " |-- type: string (nullable = true)\n",
      "\n"
     ]
    }
   ],
   "source": [
    "from pyspark.sql import SparkSession\n",
    "\n",
    "spark = SparkSession.builder.appName(\"s8a-dataframes-arrays\").getOrCreate()\n",
    "# Hay columnas que se llaman igual pero con diferente case -> good for kids\n",
    "spark.conf.set(\"spark.sql.caseSensitive\", \"true\")\n",
    "\n",
    "df = spark.read.option(\"inferSchema\", \"true\").json(\"yelp_academic_dataset_business.json\")\n",
    "    \n",
    "df.printSchema()"
   ]
  },
  {
   "cell_type": "code",
   "execution_count": 3,
   "id": "7516594c",
   "metadata": {},
   "outputs": [
    {
     "data": {
      "text/plain": [
       "15585"
      ]
     },
     "execution_count": 3,
     "metadata": {},
     "output_type": "execute_result"
    }
   ],
   "source": [
    "df.count()"
   ]
  },
  {
   "cell_type": "code",
   "execution_count": 17,
   "id": "1b9fa0cb",
   "metadata": {},
   "outputs": [
    {
     "name": "stdout",
     "output_type": "stream",
     "text": [
      "+-----------------------------+--------------+---------------+--------------------------------------------------------------------+---------+\n",
      "|name                         |Sunday        |totalCategorias|pelisOrdenadas                                                      |Max Payne|\n",
      "+-----------------------------+--------------+---------------+--------------------------------------------------------------------+---------+\n",
      "|Turf Paradise Race Course    |{18:00, 11:00}|4              |[Active Life, Arts & Entertainment, Horse Racing, Stadiums & Arenas]|false    |\n",
      "|Sam's Club Members Only      |null          |5              |[Automotive, Department Stores, Fashion, Shopping, Tires]           |false    |\n",
      "|Forever 21                   |{18:00, 11:00}|5              |[Accessories, Fashion, Men's Clothing, Shopping, Women's Clothing]  |false    |\n",
      "|Loving Hands Pet Care        |{19:00, 06:00}|3              |[Pet Boarding/Pet Sitting, Pet Services, Pets]                      |false    |\n",
      "|Amec Mid-City Animal Hospital|null          |2              |[Pets, Veterinarians]                                               |false    |\n",
      "+-----------------------------+--------------+---------------+--------------------------------------------------------------------+---------+\n",
      "only showing top 5 rows\n",
      "\n"
     ]
    }
   ],
   "source": [
    "from pyspark.sql.functions import *\n",
    "df.select(\"name\", \"hours.Sunday\", size(\"categories\").alias(\"totalCategorias\"),\n",
    "               sort_array(\"categories\").alias(\"pelisOrdenadas\"),\n",
    "               array_contains(\"categories\", \"Restaurants\").alias(\"Max Payne\")).show(5, truncate=False)"
   ]
  },
  {
   "cell_type": "code",
   "execution_count": null,
   "id": "150143e0-906f-4c88-9d94-4d02c35a5e40",
   "metadata": {},
   "outputs": [],
   "source": []
  }
 ],
 "metadata": {
  "kernelspec": {
   "display_name": "Python 3 (ipykernel)",
   "language": "python",
   "name": "python3"
  },
  "language_info": {
   "codemirror_mode": {
    "name": "ipython",
    "version": 3
   },
   "file_extension": ".py",
   "mimetype": "text/x-python",
   "name": "python",
   "nbconvert_exporter": "python",
   "pygments_lexer": "ipython3",
   "version": "3.9.10"
  }
 },
 "nbformat": 4,
 "nbformat_minor": 5
}
