{
 "cells": [
  {
   "cell_type": "code",
   "execution_count": 1,
   "id": "dd92dd7e-511a-42fd-b2d0-2c22d7ec91b8",
   "metadata": {},
   "outputs": [],
   "source": [
    "from pyspark.sql import SparkSession\n",
    "\n",
    "spark = SparkSession.builder.getOrCreate() # SparkSession de forma programativa\n",
    "sc = spark.sparkContext                    # SparkContext a partir de la sesión"
   ]
  },
  {
   "cell_type": "code",
   "execution_count": 10,
   "id": "202d137f-d585-4ad7-9eb9-0fee55747487",
   "metadata": {},
   "outputs": [
    {
     "data": {
      "text/plain": [
       "841148"
      ]
     },
     "execution_count": 10,
     "metadata": {},
     "output_type": "execute_result"
    }
   ],
   "source": [
    "rdd = sc.textFile(\"pdi_sales.csv\")\n",
    "rdd.count()"
   ]
  },
  {
   "cell_type": "code",
   "execution_count": 20,
   "id": "a6afa50e-21e4-40be-b6fa-335f1b931421",
   "metadata": {},
   "outputs": [
    {
     "data": {
      "text/plain": [
       "[('Country', <pyspark.resultiterable.ResultIterable at 0x7f814cde3f70>),\n",
       " ('Canada ', <pyspark.resultiterable.ResultIterable at 0x7f814cd4b2e0>),\n",
       " ('France ', <pyspark.resultiterable.ResultIterable at 0x7f816c3a9700>),\n",
       " ('Germany', <pyspark.resultiterable.ResultIterable at 0x7f814cd96eb0>),\n",
       " ('Mexico ', <pyspark.resultiterable.ResultIterable at 0x7f814cd965e0>)]"
      ]
     },
     "execution_count": 20,
     "metadata": {},
     "output_type": "execute_result"
    }
   ],
   "source": [
    "ventas = rdd.map(lambda x: [x.split(\";\")[-1], x.split(\";\")])\n",
    "paisesAgrupados = ventas.groupByKey()\n",
    "paisesAgrupados.collect()"
   ]
  },
  {
   "cell_type": "code",
   "execution_count": null,
   "id": "df465177-f7ba-4c06-9048-98b52adbe794",
   "metadata": {},
   "outputs": [],
   "source": []
  }
 ],
 "metadata": {
  "kernelspec": {
   "display_name": "Python 3 (ipykernel)",
   "language": "python",
   "name": "python3"
  },
  "language_info": {
   "codemirror_mode": {
    "name": "ipython",
    "version": 3
   },
   "file_extension": ".py",
   "mimetype": "text/x-python",
   "name": "python",
   "nbconvert_exporter": "python",
   "pygments_lexer": "ipython3",
   "version": "3.9.10"
  }
 },
 "nbformat": 4,
 "nbformat_minor": 5
}
