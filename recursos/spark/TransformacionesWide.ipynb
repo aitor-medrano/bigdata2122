{
 "cells": [
  {
   "cell_type": "code",
   "execution_count": 2,
   "id": "dd92dd7e-511a-42fd-b2d0-2c22d7ec91b8",
   "metadata": {},
   "outputs": [],
   "source": [
    "from pyspark.sql import SparkSession\n",
    "\n",
    "spark = SparkSession.builder.getOrCreate() # SparkSession de forma programativa\n",
    "sc = spark.sparkContext                    # SparkContext a partir de la sesión"
   ]
  },
  {
   "cell_type": "code",
   "execution_count": 4,
   "id": "202d137f-d585-4ad7-9eb9-0fee55747487",
   "metadata": {},
   "outputs": [
    {
     "data": {
      "text/plain": [
       "120240"
      ]
     },
     "execution_count": 4,
     "metadata": {},
     "output_type": "execute_result"
    }
   ],
   "source": [
    "rdd = sc.textFile(\"pdi_sales_small.csv\")\n",
    "rdd.count()"
   ]
  },
  {
   "cell_type": "code",
   "execution_count": 5,
   "id": "a6afa50e-21e4-40be-b6fa-335f1b931421",
   "metadata": {},
   "outputs": [
    {
     "data": {
      "text/plain": [
       "[('Country', <pyspark.resultiterable.ResultIterable at 0x7f7bcc2237c0>),\n",
       " ('Canada ', <pyspark.resultiterable.ResultIterable at 0x7f7b8b764580>),\n",
       " ('France ', <pyspark.resultiterable.ResultIterable at 0x7f7b8b743e80>),\n",
       " ('France', <pyspark.resultiterable.ResultIterable at 0x7f7b8b7f83d0>),\n",
       " ('Germany', <pyspark.resultiterable.ResultIterable at 0x7f7bacd03310>),\n",
       " ('Mexico ', <pyspark.resultiterable.ResultIterable at 0x7f7bcfa1d130>)]"
      ]
     },
     "execution_count": 5,
     "metadata": {},
     "output_type": "execute_result"
    }
   ],
   "source": [
    "ventas = rdd.map(lambda x: [x.split(\";\")[-1], x.split(\";\")])\n",
    "paisesAgrupados = ventas.groupByKey()\n",
    "paisesAgrupados.collect()"
   ]
  }
 ],
 "metadata": {
  "kernelspec": {
   "display_name": "Python 3 (ipykernel)",
   "language": "python",
   "name": "python3"
  },
  "language_info": {
   "codemirror_mode": {
    "name": "ipython",
    "version": 3
   },
   "file_extension": ".py",
   "mimetype": "text/x-python",
   "name": "python",
   "nbconvert_exporter": "python",
   "pygments_lexer": "ipython3",
   "version": "3.9.10"
  }
 },
 "nbformat": 4,
 "nbformat_minor": 5
}
