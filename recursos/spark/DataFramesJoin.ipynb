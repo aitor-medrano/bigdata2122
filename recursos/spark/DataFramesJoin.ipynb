{
 "cells": [
  {
   "cell_type": "code",
   "execution_count": 1,
   "id": "de5c8525",
   "metadata": {},
   "outputs": [
    {
     "name": "stdout",
     "output_type": "stream",
     "text": [
      "root\n",
      " |-- date: integer (nullable = true)\n",
      " |-- delay: integer (nullable = true)\n",
      " |-- distance: integer (nullable = true)\n",
      " |-- origin: string (nullable = true)\n",
      " |-- destination: string (nullable = true)\n",
      "\n"
     ]
    }
   ],
   "source": [
    "from pyspark.sql import SparkSession\n",
    "\n",
    "spark = SparkSession.builder.appName(\"s8a-dataframes-joins\").getOrCreate()\n",
    "\n",
    "df_vuelos = spark.read.option(\"sep\",\",\").option(\"header\", \"true\").option(\"inferSchema\", \"true\").csv(\"departure_delays.csv\")\n",
    "df_vuelos.printSchema()"
   ]
  },
  {
   "cell_type": "code",
   "execution_count": 2,
   "id": "4989d1f4",
   "metadata": {},
   "outputs": [
    {
     "data": {
      "text/plain": [
       "1391578"
      ]
     },
     "execution_count": 2,
     "metadata": {},
     "output_type": "execute_result"
    }
   ],
   "source": [
    "df_vuelos.count()"
   ]
  },
  {
   "cell_type": "code",
   "execution_count": 3,
   "id": "9a96dc1a",
   "metadata": {},
   "outputs": [
    {
     "name": "stdout",
     "output_type": "stream",
     "text": [
      "root\n",
      " |-- City: string (nullable = true)\n",
      " |-- State: string (nullable = true)\n",
      " |-- Country: string (nullable = true)\n",
      " |-- IATA: string (nullable = true)\n",
      "\n"
     ]
    }
   ],
   "source": [
    "df_aeropuertos = spark.read.option(\"sep\",\"\\t\").option(\"header\", \"true\").option(\"inferSchema\", \"true\").csv(\"airport-codes-na.tsv\")\n",
    "df_aeropuertos.printSchema()"
   ]
  },
  {
   "cell_type": "code",
   "execution_count": null,
   "id": "18d6e1c0",
   "metadata": {},
   "outputs": [],
   "source": []
  },
  {
   "cell_type": "code",
   "execution_count": null,
   "id": "1b382ad9",
   "metadata": {},
   "outputs": [],
   "source": []
  },
  {
   "cell_type": "code",
   "execution_count": 4,
   "id": "77551f56",
   "metadata": {},
   "outputs": [],
   "source": [
    "df_vuelos.createOrReplaceTempView(\"vuelos\")\n",
    "df_aeropuertos.createOrReplaceTempView(\"aeropuertos\")"
   ]
  },
  {
   "cell_type": "code",
   "execution_count": 5,
   "id": "b4bfbca0",
   "metadata": {},
   "outputs": [
    {
     "name": "stdout",
     "output_type": "stream",
     "text": [
      "+-------+-----+--------+------+-----------+----------+---------------+\n",
      "|   date|delay|distance|origin|destination|originCity|destinationCity|\n",
      "+-------+-----+--------+------+-----------+----------+---------------+\n",
      "|1011245|    6|     602|   ABE|        ATL| Allentown|        Atlanta|\n",
      "|1020600|   -8|     369|   ABE|        DTW| Allentown|        Detroit|\n",
      "|1021245|   -2|     602|   ABE|        ATL| Allentown|        Atlanta|\n",
      "+-------+-----+--------+------+-----------+----------+---------------+\n",
      "only showing top 3 rows\n",
      "\n"
     ]
    }
   ],
   "source": [
    "df_join = spark.sql(\"select v.*, a.City as originCity, b.City as destinationCity from vuelos v JOIN aeropuertos a on v.origin == a.IATA join aeropuertos b on v.destination = b.IATA\")\n",
    "df_join.show(3)"
   ]
  },
  {
   "cell_type": "code",
   "execution_count": 6,
   "id": "bb50b1e9",
   "metadata": {},
   "outputs": [
    {
     "data": {
      "text/plain": [
       "1361141"
      ]
     },
     "execution_count": 6,
     "metadata": {},
     "output_type": "execute_result"
    }
   ],
   "source": [
    "df_join.count()"
   ]
  },
  {
   "cell_type": "code",
   "execution_count": 7,
   "id": "e824fd90",
   "metadata": {},
   "outputs": [
    {
     "name": "stdout",
     "output_type": "stream",
     "text": [
      "+-------+-----+--------+------+-----------+----------+---------------+\n",
      "|   date|delay|distance|origin|destination|originCity|destinationCity|\n",
      "+-------+-----+--------+------+-----------+----------+---------------+\n",
      "|1011245|    6|     602|   ABE|        ATL| Allentown|        Atlanta|\n",
      "|1020600|   -8|     369|   ABE|        DTW| Allentown|        Detroit|\n",
      "|1021245|   -2|     602|   ABE|        ATL| Allentown|        Atlanta|\n",
      "+-------+-----+--------+------+-----------+----------+---------------+\n",
      "only showing top 3 rows\n",
      "\n"
     ]
    }
   ],
   "source": [
    "df_left_join = spark.sql(\"select v.*, a.City as originCity, b.City as destinationCity from vuelos v LEFT JOIN aeropuertos a on v.origin == a.IATA LEFT JOIN aeropuertos b on v.destination = b.IATA\")\n",
    "df_left_join.show(3)"
   ]
  },
  {
   "cell_type": "code",
   "execution_count": 8,
   "id": "c6aed257",
   "metadata": {},
   "outputs": [
    {
     "data": {
      "text/plain": [
       "1391578"
      ]
     },
     "execution_count": 8,
     "metadata": {},
     "output_type": "execute_result"
    }
   ],
   "source": [
    "df_left_join.count()"
   ]
  },
  {
   "cell_type": "code",
   "execution_count": 20,
   "id": "9f3eaeaf",
   "metadata": {},
   "outputs": [
    {
     "data": {
      "text/plain": [
       "14416"
      ]
     },
     "execution_count": 20,
     "metadata": {},
     "output_type": "execute_result"
    }
   ],
   "source": [
    "df_left_anti_join = spark.sql(\"select * from vuelos v LEFT ANTI JOIN aeropuertos a ON v.origin == a.IATA \")\n",
    "df_left_anti_join.count()"
   ]
  },
  {
   "cell_type": "code",
   "execution_count": null,
   "id": "3c9f906d-6c5f-40ce-a68d-8a339307ca07",
   "metadata": {},
   "outputs": [],
   "source": []
  },
  {
   "cell_type": "code",
   "execution_count": null,
   "id": "108564e8-d063-4ec0-a60d-7bf058346b29",
   "metadata": {},
   "outputs": [],
   "source": []
  }
 ],
 "metadata": {
  "kernelspec": {
   "display_name": "Python 3 (ipykernel)",
   "language": "python",
   "name": "python3"
  },
  "language_info": {
   "codemirror_mode": {
    "name": "ipython",
    "version": 3
   },
   "file_extension": ".py",
   "mimetype": "text/x-python",
   "name": "python",
   "nbconvert_exporter": "python",
   "pygments_lexer": "ipython3",
   "version": "3.9.10"
  }
 },
 "nbformat": 4,
 "nbformat_minor": 5
}
