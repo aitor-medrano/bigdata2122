{
 "cells": [
  {
   "cell_type": "code",
   "execution_count": 1,
   "id": "1258f479",
   "metadata": {},
   "outputs": [
    {
     "name": "stderr",
     "output_type": "stream",
     "text": [
      "22/03/22 17:25:18 WARN Utils: Your hostname, MacBook-Air-de-Aitor.local resolves to a loopback address: 127.0.0.1; using 172.20.10.2 instead (on interface en0)\n",
      "22/03/22 17:25:18 WARN Utils: Set SPARK_LOCAL_IP if you need to bind to another address\n",
      "22/03/22 17:25:19 WARN NativeCodeLoader: Unable to load native-hadoop library for your platform... using builtin-java classes where applicable\n",
      "Using Spark's default log4j profile: org/apache/spark/log4j-defaults.properties\n",
      "Setting default log level to \"WARN\".\n",
      "To adjust logging level use sc.setLogLevel(newLevel). For SparkR, use setLogLevel(newLevel).\n"
     ]
    }
   ],
   "source": [
    "from pyspark.sql import SparkSession\n",
    "\n",
    "spark = SparkSession.builder.getOrCreate()\n",
    "sc = spark.sparkContext"
   ]
  },
  {
   "cell_type": "markdown",
   "id": "0e58ae53",
   "metadata": {},
   "source": [
    "Carga los logs de la carpeta weblogs"
   ]
  },
  {
   "cell_type": "code",
   "execution_count": 2,
   "id": "c7e8378b",
   "metadata": {},
   "outputs": [
    {
     "name": "stdout",
     "output_type": "stream",
     "text": [
      "root\n",
      " |-- value: string (nullable = true)\n",
      "\n"
     ]
    },
    {
     "name": "stderr",
     "output_type": "stream",
     "text": [
      "                                                                                \r"
     ]
    },
    {
     "name": "stdout",
     "output_type": "stream",
     "text": [
      "+-------+--------------------+\n",
      "|summary|               value|\n",
      "+-------+--------------------+\n",
      "|  count|                6404|\n",
      "|   mean|                null|\n",
      "| stddev|                null|\n",
      "|    min|                    |\n",
      "|    max|99.73.191.11 - 20...|\n",
      "+-------+--------------------+\n",
      "\n"
     ]
    }
   ],
   "source": [
    "df = spark.read.text(\"weblogs/2014-01-18.log\")\n",
    "df.printSchema()\n",
    "df.describe().show()"
   ]
  },
  {
   "cell_type": "code",
   "execution_count": 10,
   "id": "94132efd",
   "metadata": {},
   "outputs": [],
   "source": [
    "logs=sc.textFile(\"weblogs/*.log\")"
   ]
  },
  {
   "cell_type": "markdown",
   "id": "084d83a5",
   "metadata": {},
   "source": [
    "2. Crea un RDD de pares a partir de estos ficheros con el usuario como clave y un valor 1"
   ]
  },
  {
   "cell_type": "code",
   "execution_count": 11,
   "id": "5f34bb0d",
   "metadata": {},
   "outputs": [
    {
     "data": {
      "text/plain": [
       "[('128', 1), ('128', 1), ('94', 1), ('94', 1), ('131', 1)]"
      ]
     },
     "execution_count": 11,
     "metadata": {},
     "output_type": "execute_result"
    }
   ],
   "source": [
    "usuariosRDD = logs.map(lambda linea: linea.split()).map(lambda words: (words[2].strip(),1))\n",
    "usuariosRDD.take(5)"
   ]
  },
  {
   "cell_type": "markdown",
   "id": "ffe7bdcf",
   "metadata": {},
   "source": [
    "3. Crea un nuevo RDD con la suma de los valores para cada identificador de usuario"
   ]
  },
  {
   "cell_type": "code",
   "execution_count": 13,
   "id": "42fda5d3",
   "metadata": {},
   "outputs": [
    {
     "name": "stderr",
     "output_type": "stream",
     "text": [
      "                                                                                \r"
     ]
    },
    {
     "data": {
      "text/plain": [
       "[('54126', 32), ('54', 498), ('21443', 35), ('74', 516), ('64', 562)]"
      ]
     },
     "execution_count": 13,
     "metadata": {},
     "output_type": "execute_result"
    }
   ],
   "source": [
    "usuariosTotal = usuariosRDD.reduceByKey(lambda a,b: a+b)\n",
    "usuariosTotal.take(5)"
   ]
  },
  {
   "cell_type": "markdown",
   "id": "9bf67518",
   "metadata": {},
   "source": [
    "4. Muestra los 10 usuarios que más peticiones han realizado."
   ]
  },
  {
   "cell_type": "code",
   "execution_count": 17,
   "id": "b9264c12",
   "metadata": {},
   "outputs": [
    {
     "name": "stderr",
     "output_type": "stream",
     "text": [
      "                                                                                \r"
     ]
    },
    {
     "data": {
      "text/plain": [
       "[('193', 667),\n",
       " ('13', 636),\n",
       " ('24', 620),\n",
       " ('147', 610),\n",
       " ('110', 606),\n",
       " ('84', 606),\n",
       " ('111', 604),\n",
       " ('77', 603),\n",
       " ('21', 600),\n",
       " ('126', 600)]"
      ]
     },
     "execution_count": 17,
     "metadata": {},
     "output_type": "execute_result"
    }
   ],
   "source": [
    "usuariosTotal.takeOrdered(10, lambda x: -x[1])"
   ]
  },
  {
   "cell_type": "markdown",
   "id": "e7464c00",
   "metadata": {},
   "source": [
    "Crea un nuevo RDD de pares donde la clave sea el código del usuario y el valor una lista de IP desde donde se ha conectado el usuario.  "
   ]
  },
  {
   "cell_type": "code",
   "execution_count": null,
   "id": "d7b80de2",
   "metadata": {},
   "outputs": [],
   "source": []
  }
 ],
 "metadata": {
  "kernelspec": {
   "display_name": "Python 3 (ipykernel)",
   "language": "python",
   "name": "python3"
  },
  "language_info": {
   "codemirror_mode": {
    "name": "ipython",
    "version": 3
   },
   "file_extension": ".py",
   "mimetype": "text/x-python",
   "name": "python",
   "nbconvert_exporter": "python",
   "pygments_lexer": "ipython3",
   "version": "3.8.8"
  }
 },
 "nbformat": 4,
 "nbformat_minor": 5
}
