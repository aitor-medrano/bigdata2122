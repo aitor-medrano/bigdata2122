{
 "cells": [
  {
   "cell_type": "code",
   "execution_count": 49,
   "id": "cc9cc318",
   "metadata": {},
   "outputs": [],
   "source": [
    "from pyspark.sql import SparkSession\n",
    "\n",
    "spark = SparkSession.builder.appName(\"s8a-analitica-ventas\").getOrCreate()"
   ]
  },
  {
   "cell_type": "code",
   "execution_count": 50,
   "id": "a676d101",
   "metadata": {},
   "outputs": [],
   "source": [
    "from pyspark.sql.types import StructType, StructField, StringType, IntegerType, DoubleType\n",
    "esquema = StructType([\n",
    "    StructField(\"Order ID\", IntegerType(), False),\n",
    "    StructField(\"Product\", StringType(), False),\n",
    "    StructField(\"Quantity Ordered\", IntegerType(), True),\n",
    "    StructField(\"Price Each\", DoubleType(), False),\n",
    "    StructField(\"Order Date\", StringType(), False),\n",
    "    StructField(\"Purchase Address\", StringType(), False)\n",
    "])"
   ]
  },
  {
   "cell_type": "code",
   "execution_count": 51,
   "id": "39799a51",
   "metadata": {},
   "outputs": [
    {
     "name": "stdout",
     "output_type": "stream",
     "text": [
      "root\n",
      " |-- Order ID: integer (nullable = true)\n",
      " |-- Product: string (nullable = true)\n",
      " |-- Quantity Ordered: integer (nullable = true)\n",
      " |-- Price Each: double (nullable = true)\n",
      " |-- Order Date: string (nullable = true)\n",
      " |-- Purchase Address: string (nullable = true)\n",
      "\n"
     ]
    }
   ],
   "source": [
    "# Mucho más rapido leerlo con el esquema\n",
    "df = spark.read.option(\"sep\",\",\").option(\"header\", \"true\").schema(esquema).csv(\"salesdata/*.csv\")\n",
    "    \n",
    "df.printSchema()"
   ]
  },
  {
   "cell_type": "code",
   "execution_count": 52,
   "id": "210f790f",
   "metadata": {},
   "outputs": [
    {
     "name": "stderr",
     "output_type": "stream",
     "text": [
      "[Stage 36:===========================================>              (3 + 1) / 4]\r"
     ]
    },
    {
     "name": "stdout",
     "output_type": "stream",
     "text": [
      "+-------+------------------+------------+------------------+------------------+--------------+--------------------+\n",
      "|summary|          Order ID|     Product|  Quantity Ordered|        Price Each|    Order Date|    Purchase Address|\n",
      "+-------+------------------+------------+------------------+------------------+--------------+--------------------+\n",
      "|  count|            185950|      186305|            185950|            185950|        186305|              186305|\n",
      "|   mean| 230417.5693788653|        null|1.1243828986286637|184.39973476747707|          null|                null|\n",
      "| stddev|51512.737109995265|        null|0.4427926240286704| 332.7313298843439|          null|                null|\n",
      "|    min|            141234|20in Monitor|                 1|              2.99|01/01/19 03:07|1 11th St, Atlant...|\n",
      "|    max|            319670|      iPhone|                 9|            1700.0|    Order Date|    Purchase Address|\n",
      "+-------+------------------+------------+------------------+------------------+--------------+--------------------+\n",
      "\n"
     ]
    },
    {
     "name": "stderr",
     "output_type": "stream",
     "text": [
      "\r",
      "                                                                                \r"
     ]
    }
   ],
   "source": [
    "df.describe().show()"
   ]
  },
  {
   "cell_type": "code",
   "execution_count": 53,
   "id": "0afa3bbd",
   "metadata": {},
   "outputs": [],
   "source": [
    "# Limpieza de datos\n",
    "\n",
    "\n",
    "# Quitar nulos\n",
    "\n",
    "# Quitar encabezados"
   ]
  },
  {
   "cell_type": "code",
   "execution_count": 54,
   "id": "f3d072cf",
   "metadata": {},
   "outputs": [],
   "source": [
    "#Renombrar campos\n",
    "ventas = df.withColumnRenamed(\"Order ID\", \"OrderID\").withColumnRenamed(\"Quantity Ordered\", \"Quantity\").withColumnRenamed(\"Price Each\", \"Price\")\n",
    "ventas = ventas.withColumnRenamed(\"Order Date\", \"OrderDate\").withColumnRenamed(\"Purchase Address\", \"OrderAddress\")"
   ]
  },
  {
   "cell_type": "code",
   "execution_count": 55,
   "id": "19c29051",
   "metadata": {},
   "outputs": [
    {
     "name": "stdout",
     "output_type": "stream",
     "text": [
      "+-------+-------+--------+-----+----------+----------------+\n",
      "|OrderID|Product|Quantity|Price| OrderDate|    OrderAddress|\n",
      "+-------+-------+--------+-----+----------+----------------+\n",
      "|   null|Product|    null| null|Order Date|Purchase Address|\n",
      "|   null|   null|    null| null|      null|            null|\n",
      "|   null|   null|    null| null|      null|            null|\n",
      "|   null|   null|    null| null|      null|            null|\n",
      "|   null|Product|    null| null|Order Date|Purchase Address|\n",
      "|   null|Product|    null| null|Order Date|Purchase Address|\n",
      "|   null|   null|    null| null|      null|            null|\n",
      "|   null|   null|    null| null|      null|            null|\n",
      "|   null|   null|    null| null|      null|            null|\n",
      "|   null|   null|    null| null|      null|            null|\n",
      "|   null|Product|    null| null|Order Date|Purchase Address|\n",
      "|   null|   null|    null| null|      null|            null|\n",
      "|   null|   null|    null| null|      null|            null|\n",
      "|   null|   null|    null| null|      null|            null|\n",
      "|   null|   null|    null| null|      null|            null|\n",
      "|   null|   null|    null| null|      null|            null|\n",
      "|   null|Product|    null| null|Order Date|Purchase Address|\n",
      "|   null|   null|    null| null|      null|            null|\n",
      "|   null|Product|    null| null|Order Date|Purchase Address|\n",
      "|   null|Product|    null| null|Order Date|Purchase Address|\n",
      "+-------+-------+--------+-----+----------+----------------+\n",
      "only showing top 20 rows\n",
      "\n"
     ]
    }
   ],
   "source": [
    "# Comprobamos si tenemos campos nulos\n",
    "from pyspark.sql.functions import col\n",
    "ventas.filter(col(\"OrderID\").isNull()).show()"
   ]
  },
  {
   "cell_type": "code",
   "execution_count": 56,
   "id": "ce654ac5",
   "metadata": {},
   "outputs": [
    {
     "name": "stdout",
     "output_type": "stream",
     "text": [
      "+-------+-------+--------+-----+---------+------------+\n",
      "|OrderID|Product|Quantity|Price|OrderDate|OrderAddress|\n",
      "+-------+-------+--------+-----+---------+------------+\n",
      "+-------+-------+--------+-----+---------+------------+\n",
      "\n"
     ]
    }
   ],
   "source": [
    "# Quitar nulos\n",
    "ventasSinNulos = ventas.na.drop(\"any\")\n",
    "# Comprobamos\n",
    "ventasSinNulos.filter(col(\"OrderID\").isNull()).show()"
   ]
  },
  {
   "cell_type": "code",
   "execution_count": 57,
   "id": "72c18d25",
   "metadata": {},
   "outputs": [
    {
     "name": "stdout",
     "output_type": "stream",
     "text": [
      "+-------+-------+--------+-----+---------+------------+\n",
      "|OrderID|Product|Quantity|Price|OrderDate|OrderAddress|\n",
      "+-------+-------+--------+-----+---------+------------+\n",
      "+-------+-------+--------+-----+---------+------------+\n",
      "\n"
     ]
    },
    {
     "name": "stderr",
     "output_type": "stream",
     "text": [
      "\r",
      "[Stage 43:======================================>                   (2 + 1) / 3]\r",
      "\r",
      "                                                                                \r"
     ]
    }
   ],
   "source": [
    "# Comprobamos las cabeceras\n",
    "encabezados = ventasSinNulos.filter((col(\"OrderID\") == \"Order ID\") | (col(\"Product\") == \"Product\"))\n",
    "encabezados.show()"
   ]
  },
  {
   "cell_type": "code",
   "execution_count": 58,
   "id": "40b7a725",
   "metadata": {},
   "outputs": [
    {
     "name": "stdout",
     "output_type": "stream",
     "text": [
      "+-----------------------------------------+\n",
      "|OrderAddress                             |\n",
      "+-----------------------------------------+\n",
      "|136 Church St, New York City, NY 10001   |\n",
      "|562 2nd St, New York City, NY 10001      |\n",
      "|277 Main St, New York City, NY 10001     |\n",
      "|410 6th St, San Francisco, CA 94016      |\n",
      "|43 Hill St, Atlanta, GA 30301            |\n",
      "|200 Jefferson St, New York City, NY 10001|\n",
      "|928 12th St, Portland, OR 97035          |\n",
      "|813 Hickory St, Dallas, TX 75001         |\n",
      "|718 Wilson St, Dallas, TX 75001          |\n",
      "|77 7th St, Dallas, TX 75001              |\n",
      "+-----------------------------------------+\n",
      "only showing top 10 rows\n",
      "\n"
     ]
    }
   ],
   "source": [
    "# Obtener la ciudad y el estado\n",
    "ventasSinNulos.select(\"OrderAddress\").show(10,False)"
   ]
  },
  {
   "cell_type": "code",
   "execution_count": 59,
   "id": "19c4e51e",
   "metadata": {},
   "outputs": [
    {
     "name": "stdout",
     "output_type": "stream",
     "text": [
      "+-------+--------------------+--------+------+--------------+--------------------+-------------+-----+\n",
      "|OrderID|             Product|Quantity| Price|     OrderDate|        OrderAddress|         City|State|\n",
      "+-------+--------------------+--------+------+--------------+--------------------+-------------+-----+\n",
      "| 295665|  Macbook Pro Laptop|       1|1700.0|12/30/19 00:01|136 Church St, Ne...|New York City|   NY|\n",
      "| 295666|  LG Washing Machine|       1| 600.0|12/29/19 07:03|562 2nd St, New Y...|New York City|   NY|\n",
      "| 295667|USB-C Charging Cable|       1| 11.95|12/12/19 18:21|277 Main St, New ...|New York City|   NY|\n",
      "| 295668|    27in FHD Monitor|       1|149.99|12/22/19 15:13|410 6th St, San F...|San Francisco|   CA|\n",
      "| 295669|USB-C Charging Cable|       1| 11.95|12/18/19 12:38|43 Hill St, Atlan...|      Atlanta|   GA|\n",
      "| 295670|AA Batteries (4-p...|       1|  3.84|12/31/19 22:58|200 Jefferson St,...|New York City|   NY|\n",
      "| 295671|USB-C Charging Cable|       1| 11.95|12/16/19 15:10|928 12th St, Port...|     Portland|   OR|\n",
      "| 295672|USB-C Charging Cable|       2| 11.95|12/13/19 09:29|813 Hickory St, D...|       Dallas|   TX|\n",
      "| 295673|Bose SoundSport H...|       1| 99.99|12/15/19 23:26|718 Wilson St, Da...|       Dallas|   TX|\n",
      "| 295674|AAA Batteries (4-...|       4|  2.99|12/28/19 11:51|77 7th St, Dallas...|       Dallas|   TX|\n",
      "| 295675|USB-C Charging Cable|       2| 11.95|12/13/19 13:52|594 1st St, San F...|San Francisco|   CA|\n",
      "| 295676|     ThinkPad Laptop|       1|999.99|12/28/19 17:19|410 Lincoln St, L...|  Los Angeles|   CA|\n",
      "| 295677|AA Batteries (4-p...|       2|  3.84|12/20/19 19:19|866 Pine St, Bost...|       Boston|   MA|\n",
      "| 295678|AAA Batteries (4-...|       2|  2.99|12/06/19 09:38|187 Lincoln St, D...|       Dallas|   TX|\n",
      "| 295679|USB-C Charging Cable|       1| 11.95|12/25/19 09:39|902 2nd St, Dalla...|       Dallas|   TX|\n",
      "| 295680|Lightning Chargin...|       1| 14.95|12/01/19 14:30|338 Main St, Aust...|       Austin|   TX|\n",
      "| 295681|        Google Phone|       1| 600.0|12/25/19 12:37|79 Elm St, Boston...|       Boston|   MA|\n",
      "| 295681|USB-C Charging Cable|       1| 11.95|12/25/19 12:37|79 Elm St, Boston...|       Boston|   MA|\n",
      "| 295681|Bose SoundSport H...|       1| 99.99|12/25/19 12:37|79 Elm St, Boston...|       Boston|   MA|\n",
      "| 295681|    Wired Headphones|       1| 11.99|12/25/19 12:37|79 Elm St, Boston...|       Boston|   MA|\n",
      "+-------+--------------------+--------+------+--------------+--------------------+-------------+-----+\n",
      "only showing top 20 rows\n",
      "\n"
     ]
    }
   ],
   "source": [
    "# Si separamos por comas, la ciudad es la de en medio, y el estado las dos letras mayúculas de la tercera\n",
    "from pyspark.sql.functions import split, trim\n",
    "ventasCiudad = ventasSinNulos.withColumn(\"City\", trim(split(col(\"OrderAddress\"), \",\")[1]))\n",
    "ventasEstado = ventasCiudad.withColumn(\"State\", trim(split(split(col(\"OrderAddress\"), \",\")[2], \" \")[1]))\n",
    "ventasEstado.show()"
   ]
  },
  {
   "cell_type": "code",
   "execution_count": 61,
   "id": "ffed38d3",
   "metadata": {},
   "outputs": [
    {
     "name": "stdout",
     "output_type": "stream",
     "text": [
      "+-------+--------------------+--------+------+-------------------+--------------------+-------------+-----+\n",
      "|OrderID|             Product|Quantity| Price|          OrderDate|        OrderAddress|         City|State|\n",
      "+-------+--------------------+--------+------+-------------------+--------------------+-------------+-----+\n",
      "| 295665|  Macbook Pro Laptop|       1|1700.0|2019-12-30 00:01:00|136 Church St, Ne...|New York City|   NY|\n",
      "| 295666|  LG Washing Machine|       1| 600.0|2019-12-29 07:03:00|562 2nd St, New Y...|New York City|   NY|\n",
      "| 295667|USB-C Charging Cable|       1| 11.95|2019-12-12 18:21:00|277 Main St, New ...|New York City|   NY|\n",
      "| 295668|    27in FHD Monitor|       1|149.99|2019-12-22 15:13:00|410 6th St, San F...|San Francisco|   CA|\n",
      "| 295669|USB-C Charging Cable|       1| 11.95|2019-12-18 12:38:00|43 Hill St, Atlan...|      Atlanta|   GA|\n",
      "| 295670|AA Batteries (4-p...|       1|  3.84|2019-12-31 22:58:00|200 Jefferson St,...|New York City|   NY|\n",
      "| 295671|USB-C Charging Cable|       1| 11.95|2019-12-16 15:10:00|928 12th St, Port...|     Portland|   OR|\n",
      "| 295672|USB-C Charging Cable|       2| 11.95|2019-12-13 09:29:00|813 Hickory St, D...|       Dallas|   TX|\n",
      "| 295673|Bose SoundSport H...|       1| 99.99|2019-12-15 23:26:00|718 Wilson St, Da...|       Dallas|   TX|\n",
      "| 295674|AAA Batteries (4-...|       4|  2.99|2019-12-28 11:51:00|77 7th St, Dallas...|       Dallas|   TX|\n",
      "| 295675|USB-C Charging Cable|       2| 11.95|2019-12-13 13:52:00|594 1st St, San F...|San Francisco|   CA|\n",
      "| 295676|     ThinkPad Laptop|       1|999.99|2019-12-28 17:19:00|410 Lincoln St, L...|  Los Angeles|   CA|\n",
      "| 295677|AA Batteries (4-p...|       2|  3.84|2019-12-20 19:19:00|866 Pine St, Bost...|       Boston|   MA|\n",
      "| 295678|AAA Batteries (4-...|       2|  2.99|2019-12-06 09:38:00|187 Lincoln St, D...|       Dallas|   TX|\n",
      "| 295679|USB-C Charging Cable|       1| 11.95|2019-12-25 09:39:00|902 2nd St, Dalla...|       Dallas|   TX|\n",
      "| 295680|Lightning Chargin...|       1| 14.95|2019-12-01 14:30:00|338 Main St, Aust...|       Austin|   TX|\n",
      "| 295681|        Google Phone|       1| 600.0|2019-12-25 12:37:00|79 Elm St, Boston...|       Boston|   MA|\n",
      "| 295681|USB-C Charging Cable|       1| 11.95|2019-12-25 12:37:00|79 Elm St, Boston...|       Boston|   MA|\n",
      "| 295681|Bose SoundSport H...|       1| 99.99|2019-12-25 12:37:00|79 Elm St, Boston...|       Boston|   MA|\n",
      "| 295681|    Wired Headphones|       1| 11.99|2019-12-25 12:37:00|79 Elm St, Boston...|       Boston|   MA|\n",
      "+-------+--------------------+--------+------+-------------------+--------------------+-------------+-----+\n",
      "only showing top 20 rows\n",
      "\n"
     ]
    }
   ],
   "source": [
    "# Cambiamos el campo fecha\n",
    "from pyspark.sql.functions import to_timestamp\n",
    "ventas = ventasEstado.withColumn(\"OrderDate\", to_timestamp(ventasEstado.OrderDate, \"MM/dd/yy HH:mm\"))\n",
    "ventas.show()"
   ]
  },
  {
   "cell_type": "code",
   "execution_count": 63,
   "id": "fa97679e",
   "metadata": {},
   "outputs": [
    {
     "name": "stdout",
     "output_type": "stream",
     "text": [
      "+-------+--------------------+--------+------+-------------------+--------------------+-------------+-----+----+-----+\n",
      "|OrderID|             Product|Quantity| Price|          OrderDate|        OrderAddress|         City|State|Year|Month|\n",
      "+-------+--------------------+--------+------+-------------------+--------------------+-------------+-----+----+-----+\n",
      "| 295665|  Macbook Pro Laptop|       1|1700.0|2019-12-30 00:01:00|136 Church St, Ne...|New York City|   NY|2019|   12|\n",
      "| 295666|  LG Washing Machine|       1| 600.0|2019-12-29 07:03:00|562 2nd St, New Y...|New York City|   NY|2019|   12|\n",
      "| 295667|USB-C Charging Cable|       1| 11.95|2019-12-12 18:21:00|277 Main St, New ...|New York City|   NY|2019|   12|\n",
      "| 295668|    27in FHD Monitor|       1|149.99|2019-12-22 15:13:00|410 6th St, San F...|San Francisco|   CA|2019|   12|\n",
      "| 295669|USB-C Charging Cable|       1| 11.95|2019-12-18 12:38:00|43 Hill St, Atlan...|      Atlanta|   GA|2019|   12|\n",
      "| 295670|AA Batteries (4-p...|       1|  3.84|2019-12-31 22:58:00|200 Jefferson St,...|New York City|   NY|2019|   12|\n",
      "| 295671|USB-C Charging Cable|       1| 11.95|2019-12-16 15:10:00|928 12th St, Port...|     Portland|   OR|2019|   12|\n",
      "| 295672|USB-C Charging Cable|       2| 11.95|2019-12-13 09:29:00|813 Hickory St, D...|       Dallas|   TX|2019|   12|\n",
      "| 295673|Bose SoundSport H...|       1| 99.99|2019-12-15 23:26:00|718 Wilson St, Da...|       Dallas|   TX|2019|   12|\n",
      "| 295674|AAA Batteries (4-...|       4|  2.99|2019-12-28 11:51:00|77 7th St, Dallas...|       Dallas|   TX|2019|   12|\n",
      "| 295675|USB-C Charging Cable|       2| 11.95|2019-12-13 13:52:00|594 1st St, San F...|San Francisco|   CA|2019|   12|\n",
      "| 295676|     ThinkPad Laptop|       1|999.99|2019-12-28 17:19:00|410 Lincoln St, L...|  Los Angeles|   CA|2019|   12|\n",
      "| 295677|AA Batteries (4-p...|       2|  3.84|2019-12-20 19:19:00|866 Pine St, Bost...|       Boston|   MA|2019|   12|\n",
      "| 295678|AAA Batteries (4-...|       2|  2.99|2019-12-06 09:38:00|187 Lincoln St, D...|       Dallas|   TX|2019|   12|\n",
      "| 295679|USB-C Charging Cable|       1| 11.95|2019-12-25 09:39:00|902 2nd St, Dalla...|       Dallas|   TX|2019|   12|\n",
      "| 295680|Lightning Chargin...|       1| 14.95|2019-12-01 14:30:00|338 Main St, Aust...|       Austin|   TX|2019|   12|\n",
      "| 295681|        Google Phone|       1| 600.0|2019-12-25 12:37:00|79 Elm St, Boston...|       Boston|   MA|2019|   12|\n",
      "| 295681|USB-C Charging Cable|       1| 11.95|2019-12-25 12:37:00|79 Elm St, Boston...|       Boston|   MA|2019|   12|\n",
      "| 295681|Bose SoundSport H...|       1| 99.99|2019-12-25 12:37:00|79 Elm St, Boston...|       Boston|   MA|2019|   12|\n",
      "| 295681|    Wired Headphones|       1| 11.99|2019-12-25 12:37:00|79 Elm St, Boston...|       Boston|   MA|2019|   12|\n",
      "+-------+--------------------+--------+------+-------------------+--------------------+-------------+-----+----+-----+\n",
      "only showing top 20 rows\n",
      "\n"
     ]
    }
   ],
   "source": [
    "# Añadimos columnas Year y Month\n",
    "from pyspark.sql.functions import year, month\n",
    "ventas = ventas.withColumn(\"Year\", year(\"OrderDate\")).withColumn(\"Month\", month(\"OrderDate\"))\n",
    "ventas.show()"
   ]
  },
  {
   "cell_type": "code",
   "execution_count": 64,
   "id": "74d97576",
   "metadata": {},
   "outputs": [
    {
     "name": "stderr",
     "output_type": "stream",
     "text": [
      "                                                                                \r"
     ]
    }
   ],
   "source": [
    "# Escribir en parquet con los datos particionados\n",
    "ventas.write.mode(\"overwrite\").partitionBy(\"Year\", \"Month\").parquet(\"./salesdataoutput/\")"
   ]
  },
  {
   "cell_type": "code",
   "execution_count": 65,
   "id": "bed16fdd",
   "metadata": {},
   "outputs": [
    {
     "name": "stdout",
     "output_type": "stream",
     "text": [
      "root\n",
      " |-- OrderID: integer (nullable = true)\n",
      " |-- Product: string (nullable = true)\n",
      " |-- Quantity: integer (nullable = true)\n",
      " |-- Price: double (nullable = true)\n",
      " |-- OrderDate: timestamp (nullable = true)\n",
      " |-- OrderAddress: string (nullable = true)\n",
      " |-- City: string (nullable = true)\n",
      " |-- State: string (nullable = true)\n",
      " |-- Month: integer (nullable = true)\n",
      "\n"
     ]
    },
    {
     "name": "stderr",
     "output_type": "stream",
     "text": [
      "22/04/02 10:51:59 WARN HeartbeatReceiver: Removing executor driver with no recent heartbeats: 51755933 ms exceeds timeout 120000 ms\n",
      "22/04/02 10:52:00 WARN SparkContext: Killing executors is not supported by current scheduler.\n"
     ]
    }
   ],
   "source": [
    "# Leemos solo los datos de 2019. Notad que no ha leído el campo Year\n",
    "ventas2019 = spark.read.parquet(\"./salesdataoutput/Year=2019\")\n",
    "ventas2019.printSchema()"
   ]
  },
  {
   "cell_type": "code",
   "execution_count": null,
   "id": "be50707d",
   "metadata": {},
   "outputs": [],
   "source": []
  },
  {
   "cell_type": "code",
   "execution_count": null,
   "id": "4d0a8836",
   "metadata": {},
   "outputs": [],
   "source": []
  }
 ],
 "metadata": {
  "kernelspec": {
   "display_name": "Python 3 (ipykernel)",
   "language": "python",
   "name": "python3"
  },
  "language_info": {
   "codemirror_mode": {
    "name": "ipython",
    "version": 3
   },
   "file_extension": ".py",
   "mimetype": "text/x-python",
   "name": "python",
   "nbconvert_exporter": "python",
   "pygments_lexer": "ipython3",
   "version": "3.9.12"
  }
 },
 "nbformat": 4,
 "nbformat_minor": 5
}
