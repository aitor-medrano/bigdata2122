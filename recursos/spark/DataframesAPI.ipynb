{
 "cells": [
  {
   "cell_type": "code",
   "execution_count": 1,
   "id": "f9ebea23",
   "metadata": {},
   "outputs": [
    {
     "name": "stderr",
     "output_type": "stream",
     "text": [
      "22/03/11 15:50:29 WARN Utils: Your hostname, MacBook-Air-de-Aitor.local resolves to a loopback address: 127.0.0.1; using 192.168.1.203 instead (on interface en0)\n",
      "22/03/11 15:50:29 WARN Utils: Set SPARK_LOCAL_IP if you need to bind to another address\n",
      "22/03/11 15:50:30 WARN NativeCodeLoader: Unable to load native-hadoop library for your platform... using builtin-java classes where applicable\n",
      "Using Spark's default log4j profile: org/apache/spark/log4j-defaults.properties\n",
      "Setting default log level to \"WARN\".\n",
      "To adjust logging level use sc.setLogLevel(newLevel). For SparkR, use setLogLevel(newLevel).\n",
      "                                                                                \r"
     ]
    },
    {
     "name": "stdout",
     "output_type": "stream",
     "text": [
      "root\n",
      " |-- ProductID: string (nullable = true)\n",
      " |-- Date: string (nullable = true)\n",
      " |-- Zip: string (nullable = true)\n",
      " |-- Units: string (nullable = true)\n",
      " |-- Revenue: string (nullable = true)\n",
      " |-- Country: string (nullable = true)\n",
      "\n"
     ]
    }
   ],
   "source": [
    "from pyspark.sql import SparkSession\n",
    "\n",
    "spark = SparkSession.builder.appName(\"s8a-dataframes-api\").getOrCreate()\n",
    "\n",
    "# Lectura de CSV con el ; como separador de columnas y con encabezado\n",
    "df = spark.read.option(\"delimiter\",\";\").option(\"header\", \"true\").csv(\"pdi_sales_small.csv\")\n",
    "    \n",
    "df.printSchema()"
   ]
  },
  {
   "cell_type": "code",
   "execution_count": 2,
   "id": "d8cce6f6",
   "metadata": {},
   "outputs": [
    {
     "name": "stdout",
     "output_type": "stream",
     "text": [
      "+---------+---------+---------------+-----+-------+-------+\n",
      "|ProductID|     Date|            Zip|Units|Revenue|Country|\n",
      "+---------+---------+---------------+-----+-------+-------+\n",
      "|      725|1/15/1999|41540          |    1|  115.5|Germany|\n",
      "|      787| 6/6/2002|41540          |    1|  314.9|Germany|\n",
      "|      788| 6/6/2002|41540          |    1|  314.9|Germany|\n",
      "|      940|1/15/1999|22587          |    1|  687.7|Germany|\n",
      "|      396|1/15/1999|22587          |    1|  857.1|Germany|\n",
      "|      734|4/10/2003|22587          |    1|  330.7|Germany|\n",
      "|      769|2/15/1999|22587          |    1|  257.2|Germany|\n",
      "|      499|1/15/1999|12555          |    1|  846.3|Germany|\n",
      "|     2254|1/15/1999|40217          |    1|   57.7|Germany|\n",
      "|       31|5/31/2002|40217          |    1|  761.2|Germany|\n",
      "|      475|2/15/1999|13583          |    1|  970.2|Germany|\n",
      "|      510|1/15/1999|22337          |    1|  837.1|Germany|\n",
      "|      499| 6/5/2002|22337          |    1|    883|Germany|\n",
      "|      289|2/15/1999|13587          |    1|    866|Germany|\n",
      "|      702|2/15/1999|13587          |    1|  286.1|Germany|\n",
      "|      910|3/15/1999|13587          |    1|  414.7|Germany|\n",
      "|      901|2/15/1999|13587          |    2|  818.9|Germany|\n",
      "|      550|1/15/1999|22177          |    1|    404|Germany|\n",
      "|      559|1/15/1999|22177          |    1|  585.6|Germany|\n",
      "|      767| 6/7/2002|22177          |    1|    105|Germany|\n",
      "+---------+---------+---------------+-----+-------+-------+\n",
      "only showing top 20 rows\n",
      "\n"
     ]
    }
   ],
   "source": [
    "df.show()"
   ]
  },
  {
   "cell_type": "code",
   "execution_count": 3,
   "id": "ae89b501",
   "metadata": {},
   "outputs": [
    {
     "name": "stdout",
     "output_type": "stream",
     "text": [
      "root\n",
      " |-- ProductID: string (nullable = true)\n",
      " |-- Date: date (nullable = true)\n",
      " |-- Zip: string (nullable = true)\n",
      " |-- Units: integer (nullable = true)\n",
      " |-- Revenue: double (nullable = true)\n",
      " |-- Country: string (nullable = true)\n",
      "\n"
     ]
    }
   ],
   "source": [
    "from pyspark.sql.functions import to_date\n",
    "df = df.withColumn(\"Units\", df.Units.cast(\"int\")).withColumn(\"Revenue\", df.Revenue.cast(\"double\"))\n",
    "df = df.withColumn(\"Date\", to_date(df.Date, \"M/d/yyy\"))\n",
    "df.printSchema()"
   ]
  },
  {
   "cell_type": "code",
   "execution_count": 4,
   "id": "505c5c75",
   "metadata": {},
   "outputs": [
    {
     "name": "stdout",
     "output_type": "stream",
     "text": [
      "+---------+----------+---------------+-----+-------+-------+\n",
      "|ProductID|      Date|            Zip|Units|Revenue|Country|\n",
      "+---------+----------+---------------+-----+-------+-------+\n",
      "|      725|1999-01-15|41540          |    1|  115.5|Germany|\n",
      "|      787|2002-06-06|41540          |    1|  314.9|Germany|\n",
      "|      788|2002-06-06|41540          |    1|  314.9|Germany|\n",
      "|      940|1999-01-15|22587          |    1|  687.7|Germany|\n",
      "|      396|1999-01-15|22587          |    1|  857.1|Germany|\n",
      "+---------+----------+---------------+-----+-------+-------+\n",
      "only showing top 5 rows\n",
      "\n"
     ]
    }
   ],
   "source": [
    "df.show(5)"
   ]
  },
  {
   "cell_type": "code",
   "execution_count": 5,
   "id": "6dbc427f",
   "metadata": {},
   "outputs": [
    {
     "name": "stdout",
     "output_type": "stream",
     "text": [
      "+---------+-------+\n",
      "|ProductID|Revenue|\n",
      "+---------+-------+\n",
      "|      725|  115.5|\n",
      "|      787|  314.9|\n",
      "|      788|  314.9|\n",
      "+---------+-------+\n",
      "only showing top 3 rows\n",
      "\n"
     ]
    }
   ],
   "source": [
    "df.select(\"ProductID\",\"Revenue\").show(3)"
   ]
  },
  {
   "cell_type": "code",
   "execution_count": 6,
   "id": "8628fa5d",
   "metadata": {},
   "outputs": [
    {
     "name": "stdout",
     "output_type": "stream",
     "text": [
      "+---------+-----------+\n",
      "|ProductID|VentasMas10|\n",
      "+---------+-----------+\n",
      "|      725|      125.5|\n",
      "|      787|      324.9|\n",
      "|      788|      324.9|\n",
      "+---------+-----------+\n",
      "only showing top 3 rows\n",
      "\n"
     ]
    }
   ],
   "source": [
    "df.select(df.ProductID,(df.Revenue+10).alias(\"VentasMas10\")).show(3)"
   ]
  },
  {
   "cell_type": "code",
   "execution_count": 7,
   "id": "700eacf2",
   "metadata": {},
   "outputs": [
    {
     "name": "stderr",
     "output_type": "stream",
     "text": [
      "[Stage 5:=============================>                             (1 + 1) / 2]\r"
     ]
    },
    {
     "name": "stdout",
     "output_type": "stream",
     "text": [
      "+---------+----------+---------------+-----+-------+-------+\n",
      "|ProductID|      Date|            Zip|Units|Revenue|Country|\n",
      "+---------+----------+---------------+-----+-------+-------+\n",
      "|     2314|1999-05-15|46045          |    1|   13.9|Germany|\n",
      "|     1974|1999-03-15|R3H            |    1|   52.4|Canada |\n",
      "|     1975|1999-01-15|R3S            |    1|   52.4|Canada |\n",
      "|     1974|1999-04-15|R3H            |    1|   52.4|Canada |\n",
      "|     1974|1999-03-15|R3B            |    1|   52.4|Canada |\n",
      "+---------+----------+---------------+-----+-------+-------+\n",
      "only showing top 5 rows\n",
      "\n"
     ]
    },
    {
     "name": "stderr",
     "output_type": "stream",
     "text": [
      "\r",
      "                                                                                \r"
     ]
    }
   ],
   "source": [
    "df.sort(\"Revenue\", descending=False).show(5)"
   ]
  },
  {
   "cell_type": "code",
   "execution_count": 8,
   "id": "411a8912",
   "metadata": {},
   "outputs": [
    {
     "name": "stderr",
     "output_type": "stream",
     "text": [
      "\r",
      "[Stage 6:>                                                          (0 + 2) / 2]\r"
     ]
    },
    {
     "name": "stdout",
     "output_type": "stream",
     "text": [
      "+---------+-------+\n",
      "|ProductID|Revenue|\n",
      "+---------+-------+\n",
      "|     2314|   13.9|\n",
      "|     1974|   52.4|\n",
      "|     1975|   52.4|\n",
      "|     1974|   52.4|\n",
      "|     1974|   52.4|\n",
      "+---------+-------+\n",
      "only showing top 5 rows\n",
      "\n"
     ]
    },
    {
     "name": "stderr",
     "output_type": "stream",
     "text": [
      "\r",
      "[Stage 6:=============================>                             (1 + 1) / 2]\r",
      "\r",
      "                                                                                \r"
     ]
    }
   ],
   "source": [
    "df.select(\"ProductID\",\"Revenue\").sort(\"Revenue\").show(5)"
   ]
  },
  {
   "cell_type": "code",
   "execution_count": 9,
   "id": "352bc87a",
   "metadata": {},
   "outputs": [
    {
     "name": "stderr",
     "output_type": "stream",
     "text": [
      "\r",
      "[Stage 7:=============================>                             (1 + 1) / 2]\r"
     ]
    },
    {
     "name": "stdout",
     "output_type": "stream",
     "text": [
      "+---------+----------+---------------+-----+-------+-------+\n",
      "|ProductID|      Date|            Zip|Units|Revenue|Country|\n",
      "+---------+----------+---------------+-----+-------+-------+\n",
      "|      495|1999-03-15|75213 CEDEX 16 |   77|43194.1|France |\n",
      "|      495|2000-03-01|75391 CEDEX 08 |   18|10395.0|France |\n",
      "|      464|2003-06-11|75213 CEDEX 16 |   16|10075.8|France |\n",
      "|      464|2000-08-01|22397          |   17| 9817.5|Germany|\n",
      "|      495|2000-03-01|06175 CEDEX 2  |   16| 9240.0|France |\n",
      "+---------+----------+---------------+-----+-------+-------+\n",
      "only showing top 5 rows\n",
      "\n"
     ]
    },
    {
     "name": "stderr",
     "output_type": "stream",
     "text": [
      "\r",
      "                                                                                \r"
     ]
    }
   ],
   "source": [
    "df.sort(df.Revenue.desc()).show(5)"
   ]
  },
  {
   "cell_type": "code",
   "execution_count": 10,
   "id": "94ef70c4",
   "metadata": {},
   "outputs": [
    {
     "name": "stderr",
     "output_type": "stream",
     "text": [
      "\r",
      "[Stage 8:=============================>                             (1 + 1) / 2]\r",
      "\r",
      "                                                                                \r"
     ]
    },
    {
     "name": "stdout",
     "output_type": "stream",
     "text": [
      "+---------+----------+---------------+-----+-------+-------+\n",
      "|ProductID|      Date|            Zip|Units|Revenue|Country|\n",
      "+---------+----------+---------------+-----+-------+-------+\n",
      "|      495|1999-03-15|75213 CEDEX 16 |   77|43194.1|France |\n",
      "|      495|2000-03-01|75391 CEDEX 08 |   18|10395.0|France |\n",
      "|      464|2003-06-11|75213 CEDEX 16 |   16|10075.8|France |\n",
      "|      464|2000-08-01|22397          |   17| 9817.5|Germany|\n",
      "|      495|2000-03-01|06175 CEDEX 2  |   16| 9240.0|France |\n",
      "+---------+----------+---------------+-----+-------+-------+\n",
      "only showing top 5 rows\n",
      "\n"
     ]
    }
   ],
   "source": [
    "df.sort([\"Revenue\",\"Units\"], ascending=[0,1]).show(5)"
   ]
  },
  {
   "cell_type": "code",
   "execution_count": 11,
   "id": "8d4f5d15",
   "metadata": {},
   "outputs": [
    {
     "name": "stderr",
     "output_type": "stream",
     "text": [
      "                                                                                \r"
     ]
    },
    {
     "name": "stdout",
     "output_type": "stream",
     "text": [
      "+-------+-----+\n",
      "|Country|count|\n",
      "+-------+-----+\n",
      "|Germany|30059|\n",
      "| France|    1|\n",
      "|France |30059|\n",
      "|Canada |30060|\n",
      "|Mexico |30060|\n",
      "+-------+-----+\n",
      "\n"
     ]
    }
   ],
   "source": [
    "df.groupBy(\"Country\").count().show()"
   ]
  },
  {
   "cell_type": "code",
   "execution_count": 12,
   "id": "98d9c669",
   "metadata": {},
   "outputs": [
    {
     "name": "stdout",
     "output_type": "stream",
     "text": [
      "+-------+-----+\n",
      "|Country|count|\n",
      "+-------+-----+\n",
      "|Germany|30059|\n",
      "| France|30060|\n",
      "| Mexico|30060|\n",
      "| Canada|30060|\n",
      "+-------+-----+\n",
      "\n"
     ]
    }
   ],
   "source": [
    "# Corregimos el error de \" France\"\n",
    "from pyspark.sql.functions import trim\n",
    "df = df.withColumn(\"Country\", trim(df.Country))\n",
    "df.groupBy(\"Country\").count().show()"
   ]
  },
  {
   "cell_type": "code",
   "execution_count": 13,
   "id": "2f45c0f5",
   "metadata": {},
   "outputs": [
    {
     "name": "stderr",
     "output_type": "stream",
     "text": [
      "\r",
      "[Stage 29:=============================>                            (1 + 1) / 2]\r",
      "\r",
      "                                                                                \r"
     ]
    },
    {
     "name": "stdout",
     "output_type": "stream",
     "text": [
      "+-------+------------------+\n",
      "|Country|      avg(Revenue)|\n",
      "+-------+------------------+\n",
      "|Germany| 498.4237665923521|\n",
      "| France| 402.1271490352905|\n",
      "| Mexico| 379.0618330007039|\n",
      "| Canada|387.31251497012323|\n",
      "+-------+------------------+\n",
      "\n"
     ]
    }
   ],
   "source": [
    "df.groupBy(\"Country\").avg(\"Revenue\").show()"
   ]
  },
  {
   "cell_type": "code",
   "execution_count": 14,
   "id": "1b27e1de",
   "metadata": {},
   "outputs": [
    {
     "name": "stdout",
     "output_type": "stream",
     "text": [
      "+-------+----------+\n",
      "|Country|sum(Units)|\n",
      "+-------+----------+\n",
      "|Germany|     31746|\n",
      "| France|     31739|\n",
      "| Mexico|     31095|\n",
      "| Canada|     31148|\n",
      "+-------+----------+\n",
      "\n"
     ]
    }
   ],
   "source": [
    "df.groupBy(\"Country\").sum(\"Units\").show()"
   ]
  },
  {
   "cell_type": "code",
   "execution_count": 54,
   "id": "aed02025",
   "metadata": {},
   "outputs": [
    {
     "name": "stdout",
     "output_type": "stream",
     "text": [
      "+-------+------------------+----------+\n",
      "|Country|      avg(Revenue)|sum(Units)|\n",
      "+-------+------------------+----------+\n",
      "|Germany| 498.4237665923521|     31746|\n",
      "| France| 402.1271490352905|     31739|\n",
      "| Mexico| 379.0618330007039|     31095|\n",
      "| Canada|387.31251497012323|     31148|\n",
      "+-------+------------------+----------+\n",
      "\n"
     ]
    }
   ],
   "source": [
    "# Varuas agregaciones a la vez\n",
    "df.groupBy(\"Country\").agg({\"Units\":\"sum\", \"Revenue\":\"avg\"}).show()"
   ]
  },
  {
   "cell_type": "code",
   "execution_count": 56,
   "id": "2ac36368",
   "metadata": {},
   "outputs": [
    {
     "name": "stdout",
     "output_type": "stream",
     "text": [
      "+---------+----------+---------------+-----+-------+-------+\n",
      "|ProductID|      Date|            Zip|Units|Revenue|Country|\n",
      "+---------+----------+---------------+-----+-------+-------+\n",
      "|      495|1999-03-15|75213 CEDEX 16 |   77|43194.1| France|\n",
      "|     2091|1999-06-15|40213          |   41| 6240.1|Germany|\n",
      "|     2091|1999-10-15|40213          |   41| 6347.7|Germany|\n",
      "+---------+----------+---------------+-----+-------+-------+\n",
      "\n"
     ]
    }
   ],
   "source": [
    "#Filter\n",
    "dfMas40 = df.filter(df.Units > 40)\n",
    "dfMas40.show()"
   ]
  },
  {
   "cell_type": "code",
   "execution_count": 48,
   "id": "29a60ff0",
   "metadata": {},
   "outputs": [
    {
     "name": "stdout",
     "output_type": "stream",
     "text": [
      "+---------+----------+---------------+-----+-------+-------+\n",
      "|ProductID|      Date|            Zip|Units|Revenue|Country|\n",
      "+---------+----------+---------------+-----+-------+-------+\n",
      "|      396|2000-03-01|H1B            |    1|  865.7| Canada|\n",
      "|      413|2000-03-01|R3G            |    1| 1181.0| Canada|\n",
      "|      413|2000-03-01|M5N            |    1| 1181.0| Canada|\n",
      "|      475|2000-03-01|M5R            |    1|  978.1| Canada|\n",
      "|      606|2000-03-01|M4V            |    1|  314.7| Canada|\n",
      "|      663|2000-03-01|H1B            |    1|  771.8| Canada|\n",
      "|      681|2000-03-01|L5N            |    1|  648.6| Canada|\n",
      "|      413|2000-03-01|L5V            |    1| 1181.0| Canada|\n",
      "|      513|2000-03-01|L5N            |    1|  451.4| Canada|\n",
      "|      574|2000-03-01|R3H            |    1|  839.7| Canada|\n",
      "|      596|2000-03-01|H1B            |    1|  752.3| Canada|\n",
      "|      604|2000-03-01|M5X            |    1|  461.7| Canada|\n",
      "|      609|2000-03-01|M5S            |    1|  802.2| Canada|\n",
      "|      559|2000-03-01|R3G            |    1|  590.4| Canada|\n",
      "|      565|2000-03-01|L5R            |    1|  839.7| Canada|\n",
      "|      676|2000-03-01|L5N            |    1|  808.2| Canada|\n",
      "|      676|2000-03-01|M5P            |    1|  808.2| Canada|\n",
      "|      574|2000-03-01|M6H            |    1|  839.7| Canada|\n",
      "|      631|2000-03-01|M4V            |    1|  346.2| Canada|\n",
      "|      631|2000-03-01|M5X            |    1|  346.2| Canada|\n",
      "+---------+----------+---------------+-----+-------+-------+\n",
      "only showing top 20 rows\n",
      "\n"
     ]
    }
   ],
   "source": [
    "df.filter(df.Date == \"2000-03-01\").show()"
   ]
  },
  {
   "cell_type": "code",
   "execution_count": 49,
   "id": "0235d41c",
   "metadata": {},
   "outputs": [
    {
     "name": "stderr",
     "output_type": "stream",
     "text": [
      "\r",
      "[Stage 141:>                                                        (0 + 1) / 1]\r",
      "\r",
      "                                                                                \r"
     ]
    },
    {
     "name": "stdout",
     "output_type": "stream",
     "text": [
      "+---------+----------+---------------+-----+-------+-------+\n",
      "|ProductID|      Date|            Zip|Units|Revenue|Country|\n",
      "+---------+----------+---------------+-----+-------+-------+\n",
      "|      495|2000-03-01|75391 CEDEX 08 |   18|10395.0| France|\n",
      "|      495|2000-03-01|06175 CEDEX 2  |   16| 9240.0| France|\n",
      "+---------+----------+---------------+-----+-------+-------+\n",
      "\n"
     ]
    }
   ],
   "source": [
    "df.filter((df.Date == \"2000-03-01\") & (df.Units > 10)).show()"
   ]
  },
  {
   "cell_type": "code",
   "execution_count": 50,
   "id": "007fafcb",
   "metadata": {},
   "outputs": [
    {
     "name": "stdout",
     "output_type": "stream",
     "text": [
      "+---------+----------+---------------+-----+-------+-------+\n",
      "|ProductID|      Date|            Zip|Units|Revenue|Country|\n",
      "+---------+----------+---------------+-----+-------+-------+\n",
      "|      725|1999-01-15|41540          |    1|  115.5|Germany|\n",
      "|      787|2002-06-06|41540          |    1|  314.9|Germany|\n",
      "|      788|2002-06-06|41540          |    1|  314.9|Germany|\n",
      "|      940|1999-01-15|22587          |    1|  687.7|Germany|\n",
      "|      396|1999-01-15|22587          |    1|  857.1|Germany|\n",
      "|      734|2003-04-10|22587          |    1|  330.7|Germany|\n",
      "|      769|1999-02-15|22587          |    1|  257.2|Germany|\n",
      "|      499|1999-01-15|12555          |    1|  846.3|Germany|\n",
      "|     2254|1999-01-15|40217          |    1|   57.7|Germany|\n",
      "|       31|2002-05-31|40217          |    1|  761.2|Germany|\n",
      "|      475|1999-02-15|13583          |    1|  970.2|Germany|\n",
      "|      510|1999-01-15|22337          |    1|  837.1|Germany|\n",
      "|      499|2002-06-05|22337          |    1|  883.0|Germany|\n",
      "|      289|1999-02-15|13587          |    1|  866.0|Germany|\n",
      "|      702|1999-02-15|13587          |    1|  286.1|Germany|\n",
      "|      910|1999-03-15|13587          |    1|  414.7|Germany|\n",
      "|      901|1999-02-15|13587          |    2|  818.9|Germany|\n",
      "|      550|1999-01-15|22177          |    1|  404.0|Germany|\n",
      "|      559|1999-01-15|22177          |    1|  585.6|Germany|\n",
      "|      767|2002-06-07|22177          |    1|  105.0|Germany|\n",
      "+---------+----------+---------------+-----+-------+-------+\n",
      "only showing top 20 rows\n",
      "\n"
     ]
    }
   ],
   "source": [
    "df.filter((df.Country == \"Germany\") | (df.Country == \"France\")).show()"
   ]
  },
  {
   "cell_type": "markdown",
   "id": "bc66dad8",
   "metadata": {},
   "source": [
    "## Conjuntos"
   ]
  },
  {
   "cell_type": "code",
   "execution_count": 51,
   "id": "484292b9",
   "metadata": {},
   "outputs": [
    {
     "name": "stdout",
     "output_type": "stream",
     "text": [
      "+-------+\n",
      "|Country|\n",
      "+-------+\n",
      "|Germany|\n",
      "| France|\n",
      "+-------+\n",
      "\n"
     ]
    }
   ],
   "source": [
    "dfFrance = df.filter(df.Country == \"France\")\n",
    "dfGermany = df.filter(df.Country == \"Germany\")\n",
    "dfFB = dfFrance.unionAll(dfGermany)\n",
    "dfFB.select(\"Country\").distinct().show()"
   ]
  },
  {
   "cell_type": "code",
   "execution_count": 52,
   "id": "acd4320a",
   "metadata": {},
   "outputs": [
    {
     "name": "stderr",
     "output_type": "stream",
     "text": [
      "                                                                                \r"
     ]
    },
    {
     "name": "stdout",
     "output_type": "stream",
     "text": [
      "+-------+\n",
      "|Country|\n",
      "+-------+\n",
      "|Germany|\n",
      "| Mexico|\n",
      "| Canada|\n",
      "+-------+\n",
      "\n"
     ]
    }
   ],
   "source": [
    "dfSinFrance = df.exceptAll(dfFrance)\n",
    "dfSinFrance.select(\"Country\").distinct().show()"
   ]
  },
  {
   "cell_type": "code",
   "execution_count": 58,
   "id": "cc01185b",
   "metadata": {},
   "outputs": [
    {
     "name": "stderr",
     "output_type": "stream",
     "text": [
      "                                                                                \r"
     ]
    },
    {
     "name": "stdout",
     "output_type": "stream",
     "text": [
      "+---------+----------+---------------+-----+-------+-------+\n",
      "|ProductID|      Date|            Zip|Units|Revenue|Country|\n",
      "+---------+----------+---------------+-----+-------+-------+\n",
      "|      495|1999-03-15|75213 CEDEX 16 |   77|43194.1| France|\n",
      "+---------+----------+---------------+-----+-------+-------+\n",
      "\n"
     ]
    }
   ],
   "source": [
    "dfMas40France = dfMas40.intersect(dfFrance)\n",
    "dfMas40France.show()"
   ]
  },
  {
   "cell_type": "markdown",
   "id": "32cd5d06",
   "metadata": {},
   "source": [
    "## Reduciendo"
   ]
  },
  {
   "cell_type": "code",
   "execution_count": 60,
   "id": "51a261e8",
   "metadata": {},
   "outputs": [
    {
     "name": "stdout",
     "output_type": "stream",
     "text": [
      "+---------+----------+---------------+-----+-------+-------+\n",
      "|ProductID|      Date|            Zip|Units|Revenue|Country|\n",
      "+---------+----------+---------------+-----+-------+-------+\n",
      "|      725|1999-01-15|41540          |    1|  115.5|Germany|\n",
      "|      787|2002-06-06|41540          |    1|  314.9|Germany|\n",
      "|      788|2002-06-06|41540          |    1|  314.9|Germany|\n",
      "|      940|1999-01-15|22587          |    1|  687.7|Germany|\n",
      "|      396|1999-01-15|22587          |    1|  857.1|Germany|\n",
      "|      734|2003-04-10|22587          |    1|  330.7|Germany|\n",
      "|      769|1999-02-15|22587          |    1|  257.2|Germany|\n",
      "|      499|1999-01-15|12555          |    1|  846.3|Germany|\n",
      "|     2254|1999-01-15|40217          |    1|   57.7|Germany|\n",
      "|       31|2002-05-31|40217          |    1|  761.2|Germany|\n",
      "+---------+----------+---------------+-----+-------+-------+\n",
      "\n"
     ]
    }
   ],
   "source": [
    "# Nos quedamos solo con 10\n",
    "dfPrimeros10 = df.limit(10)\n",
    "dfPrimeros10.show()"
   ]
  },
  {
   "cell_type": "code",
   "execution_count": 62,
   "id": "d7dc6247",
   "metadata": {},
   "outputs": [
    {
     "name": "stdout",
     "output_type": "stream",
     "text": [
      "+---------+----------+-----+-------+-------+\n",
      "|ProductID|      Date|Units|Revenue|Country|\n",
      "+---------+----------+-----+-------+-------+\n",
      "|      725|1999-01-15|    1|  115.5|Germany|\n",
      "|      787|2002-06-06|    1|  314.9|Germany|\n",
      "|      788|2002-06-06|    1|  314.9|Germany|\n",
      "|      940|1999-01-15|    1|  687.7|Germany|\n",
      "|      396|1999-01-15|    1|  857.1|Germany|\n",
      "|      734|2003-04-10|    1|  330.7|Germany|\n",
      "|      769|1999-02-15|    1|  257.2|Germany|\n",
      "|      499|1999-01-15|    1|  846.3|Germany|\n",
      "|     2254|1999-01-15|    1|   57.7|Germany|\n",
      "|       31|2002-05-31|    1|  761.2|Germany|\n",
      "+---------+----------+-----+-------+-------+\n",
      "\n"
     ]
    }
   ],
   "source": [
    "dfPrimeros10sinZip = dfPrimeros10.drop(\"Zip\")\n",
    "dfPrimeros10sinZip.show()"
   ]
  },
  {
   "cell_type": "code",
   "execution_count": 66,
   "id": "42d9b16b",
   "metadata": {},
   "outputs": [
    {
     "data": {
      "text/plain": [
       "120239"
      ]
     },
     "execution_count": 66,
     "metadata": {},
     "output_type": "execute_result"
    }
   ],
   "source": [
    "df.count()"
   ]
  },
  {
   "cell_type": "code",
   "execution_count": 67,
   "id": "d3724c94",
   "metadata": {},
   "outputs": [
    {
     "data": {
      "text/plain": [
       "120239"
      ]
     },
     "execution_count": 67,
     "metadata": {},
     "output_type": "execute_result"
    }
   ],
   "source": [
    "dfSinDuplicados = df.dropDuplicates()\n",
    "df.count()"
   ]
  },
  {
   "cell_type": "code",
   "execution_count": 71,
   "id": "0baa3083",
   "metadata": {},
   "outputs": [
    {
     "name": "stderr",
     "output_type": "stream",
     "text": [
      "                                                                                \r"
     ]
    },
    {
     "data": {
      "text/plain": [
       "799"
      ]
     },
     "execution_count": 71,
     "metadata": {},
     "output_type": "execute_result"
    }
   ],
   "source": [
    "dfSinProductosRepetidos = df.dropDuplicates([\"ProductID\"])\n",
    "dfSinProductosRepetidos.count()"
   ]
  },
  {
   "cell_type": "code",
   "execution_count": null,
   "id": "9fd5f312",
   "metadata": {},
   "outputs": [],
   "source": []
  }
 ],
 "metadata": {
  "kernelspec": {
   "display_name": "Python 3 (ipykernel)",
   "language": "python",
   "name": "python3"
  },
  "language_info": {
   "codemirror_mode": {
    "name": "ipython",
    "version": 3
   },
   "file_extension": ".py",
   "mimetype": "text/x-python",
   "name": "python",
   "nbconvert_exporter": "python",
   "pygments_lexer": "ipython3",
   "version": "3.8.8"
  }
 },
 "nbformat": 4,
 "nbformat_minor": 5
}
